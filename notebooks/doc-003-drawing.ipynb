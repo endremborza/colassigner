{
 "cells": [
  {
   "cell_type": "markdown",
   "id": "herbal-eleven",
   "metadata": {},
   "source": [
    "# Generating Call Graph"
   ]
  },
  {
   "cell_type": "code",
   "execution_count": 1,
   "id": "chronic-penetration",
   "metadata": {},
   "outputs": [],
   "source": [
    "import pandas as pd\n",
    "\n",
    "from colassigner import ColAssigner, get_cr_graph"
   ]
  },
  {
   "cell_type": "code",
   "execution_count": 2,
   "id": "distinct-balance",
   "metadata": {},
   "outputs": [],
   "source": [
    "class RawCols(ColAssigner):\n",
    "\n",
    "    icol1 = int\n",
    "    fcol1 = float"
   ]
  },
  {
   "cell_type": "code",
   "execution_count": 3,
   "id": "parallel-headquarters",
   "metadata": {},
   "outputs": [],
   "source": [
    "class CalcedCols(ColAssigner):\n",
    "    def compcol1(self, df):\n",
    "        return df.loc[:, RawCols.fcol1] + df.loc[:, RawCols.icol1]\n",
    "\n",
    "    def modcol1(self, df):\n",
    "        return df.loc[:, RawCols.fcol1] / 2\n",
    "\n",
    "    def compcol2(self, df):\n",
    "        return df.loc[:, RawCols.icol1] * df.loc[:, CalcedCols.modcol1]"
   ]
  },
  {
   "cell_type": "code",
   "execution_count": 4,
   "id": "closed-resistance",
   "metadata": {},
   "outputs": [],
   "source": [
    "df = pd.DataFrame(\n",
    "    {\n",
    "        RawCols.icol1: [1, 1, 2, 3, 0, 1, 2, 3, 5, 4],\n",
    "        RawCols.fcol1: [0.4, 0.2, 1.2, 3.1, 3.0, 0.1, 0.9, 4.1, 9.0, 3.2],\n",
    "    }\n",
    ").assign(**CalcedCols())"
   ]
  },
  {
   "cell_type": "code",
   "execution_count": 5,
   "id": "private-triangle",
   "metadata": {},
   "outputs": [
    {
     "data": {
      "text/html": [
       "<div>\n",
       "<style scoped>\n",
       "    .dataframe tbody tr th:only-of-type {\n",
       "        vertical-align: middle;\n",
       "    }\n",
       "\n",
       "    .dataframe tbody tr th {\n",
       "        vertical-align: top;\n",
       "    }\n",
       "\n",
       "    .dataframe thead th {\n",
       "        text-align: right;\n",
       "    }\n",
       "</style>\n",
       "<table border=\"1\" class=\"dataframe\">\n",
       "  <thead>\n",
       "    <tr style=\"text-align: right;\">\n",
       "      <th></th>\n",
       "      <th>to</th>\n",
       "      <th>from</th>\n",
       "    </tr>\n",
       "  </thead>\n",
       "  <tbody>\n",
       "    <tr>\n",
       "      <th>0</th>\n",
       "      <td>CalcedCols.compcol1</td>\n",
       "      <td>RawCols.fcol1</td>\n",
       "    </tr>\n",
       "    <tr>\n",
       "      <th>1</th>\n",
       "      <td>CalcedCols.compcol1</td>\n",
       "      <td>RawCols.icol1</td>\n",
       "    </tr>\n",
       "    <tr>\n",
       "      <th>2</th>\n",
       "      <td>CalcedCols.modcol1</td>\n",
       "      <td>RawCols.fcol1</td>\n",
       "    </tr>\n",
       "    <tr>\n",
       "      <th>3</th>\n",
       "      <td>CalcedCols.compcol2</td>\n",
       "      <td>RawCols.icol1</td>\n",
       "    </tr>\n",
       "    <tr>\n",
       "      <th>4</th>\n",
       "      <td>CalcedCols.compcol2</td>\n",
       "      <td>CalcedCols.modcol1</td>\n",
       "    </tr>\n",
       "  </tbody>\n",
       "</table>\n",
       "</div>"
      ],
      "text/plain": [
       "                    to                from\n",
       "0  CalcedCols.compcol1       RawCols.fcol1\n",
       "1  CalcedCols.compcol1       RawCols.icol1\n",
       "2   CalcedCols.modcol1       RawCols.fcol1\n",
       "3  CalcedCols.compcol2       RawCols.icol1\n",
       "4  CalcedCols.compcol2  CalcedCols.modcol1"
      ]
     },
     "execution_count": 5,
     "metadata": {},
     "output_type": "execute_result"
    }
   ],
   "source": [
    "pd.DataFrame(get_cr_graph())"
   ]
  }
 ],
 "metadata": {
  "kernelspec": {
   "display_name": "Python 3",
   "language": "python",
   "name": "python3"
  },
  "language_info": {
   "codemirror_mode": {
    "name": "ipython",
    "version": 3
   },
   "file_extension": ".py",
   "mimetype": "text/x-python",
   "name": "python",
   "nbconvert_exporter": "python",
   "pygments_lexer": "ipython3",
   "version": "3.8.5"
  }
 },
 "nbformat": 4,
 "nbformat_minor": 5
}
